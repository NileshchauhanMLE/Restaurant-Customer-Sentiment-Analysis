{
 "cells": [
  {
   "cell_type": "code",
   "execution_count": 1,
   "metadata": {
    "collapsed": true
   },
   "outputs": [],
   "source": [
    "import os \n",
    "import csv\n",
    "import glob\n",
    "import pandas as pd\n",
    "import chardet\n",
    "\n",
    "#read in the data frame\n",
    "path = r'D:\\Data Science\\yelp_data_v0_1.csv'\n",
    "yelp_review_df = pd.read_csv(path, encoding = 'windows-1252')"
   ]
  },
  {
   "cell_type": "code",
   "execution_count": 2,
   "metadata": {
    "collapsed": true
   },
   "outputs": [],
   "source": [
    "import numpy as np\n",
    "import re\n",
    "import nltk\n",
    "from nltk.corpus import stopwords\n",
    "\n",
    "#extract just yelp rating and the reviews from primary data set\n",
    "rating = yelp_review_df['Reviewer Rating Clean']\n",
    "raw_reviews = yelp_review_df['Review']\n",
    "\n",
    "#preprocessing all reviews - include only letters, lowercase letters, remove stop words and join list in para form\n",
    "def review_to_words(raw_review): \n",
    "    \n",
    "    letters_only = re.sub(\"[^a-zA-Z]\", \" \", raw_review) \n",
    "    raw_words = letters_only.lower().split()\n",
    "    stops = set(stopwords.words('english')) #python searching a set is faster than a list, so we convert stopwords to a set.\n",
    "    meaningful_words = [w for w in raw_words if not w in stops]\n",
    "    return(' '.join(meaningful_words))\n",
    "\n",
    "clean_reviews = []\n",
    "total_num_reviews = raw_reviews.shape[0]\n",
    "\n",
    "for i in range(0, total_num_reviews):\n",
    "    \n",
    "    #creating a counter in the loop to update on the status\n",
    "#     if( (i+1)%1000 == 0 ):\n",
    "#         print (\"Review %d of %d\\n\" % ( i+1, total_num_reviews ))    \n",
    "        \n",
    "    clean_reviews.append(review_to_words(raw_reviews[i]))\n",
    "    \n"
   ]
  },
  {
   "cell_type": "code",
   "execution_count": 3,
   "metadata": {
    "collapsed": true
   },
   "outputs": [],
   "source": [
    "#create df with numerical ratings and good vs. bad ratings\n",
    "yelp_df = pd.concat([pd.DataFrame(clean_reviews), pd.DataFrame(rating)], axis = 1)\n",
    "yelp_df.columns = ['clean_reviews','rating']\n",
    "\n",
    "#clear memory \n",
    "raw_reviews = []\n",
    "\n",
    "\n",
    "gb_rating = []\n",
    "for i in yelp_df.rating:\n",
    "    gb_rating.append(float(1.0) if (i == 4 or i == 5) else float(0.0))\n",
    "\n",
    "#create dataframe with good bad ratings where 4 or 5 is good, and others are bad \n",
    "yelp_df = pd.concat([pd.DataFrame(clean_reviews), pd.DataFrame(gb_rating)], axis = 1)\n",
    "yelp_df.columns = ['clean_reviews', 'gb_rating']\n",
    "\n",
    "#drops any rows that contain invald values\n",
    "yelp_df = yelp_df[pd.notnull(yelp_df.clean_reviews)]\n",
    "yelp_df = yelp_df[pd.notnull(yelp_df.gb_rating)] #ratings are currently float values\n"
   ]
  },
  {
   "cell_type": "code",
   "execution_count": 4,
   "metadata": {
    "collapsed": true
   },
   "outputs": [],
   "source": [
    "#first test the good bad rating data set\n",
    "\n",
    "#create the training and test set \n",
    "from sklearn.cross_validation import train_test_split\n",
    "\n",
    "itrain , itest = train_test_split(range(yelp_df.shape[0]), train_size = 0.7)\n",
    "mask = np.zeros(yelp_df.shape[0], dtype = np.bool)\n",
    "mask[itrain] = 1\n",
    "mask[itest] = 0\n",
    "mask = (mask == 1)\n",
    "\n",
    "# test = yelp_df[mask]\n",
    "# train = yelp_df[~mask]\n",
    "\n"
   ]
  },
  {
   "cell_type": "code",
   "execution_count": 5,
   "metadata": {
    "collapsed": true
   },
   "outputs": [],
   "source": [
    "#set the vectorizer to the desired parameters\n",
    "from sklearn.feature_extraction.text import CountVectorizer\n",
    "from sklearn.cross_validation import KFold\n",
    "\n",
    "#create functions to be called during the function calls\n",
    "\n",
    "def make_xy(dataframe, vectorizer=None):\n",
    "    if vectorizer is None:\n",
    "        vectorizer = CountVectorizer()\n",
    "    X = vectorizer.fit_transform(dataframe.clean_reviews)\n",
    "#     X = X.toarray()\n",
    "    y = (dataframe.gb_rating).values.astype(np.int)\n",
    "    return X, y\n",
    "\n",
    "def cv_score(clf, X, y, scorefunc):\n",
    "    result = 0.\n",
    "    nfold = 5 \n",
    "    for train, test in KFold(y.size, nfold): # split data into train/test groups, 5 times\n",
    "        clf.fit(X[train], y[train]) # fit the classifier, passed is as clf.\n",
    "        result += scorefunc(y[test], clf.predict(X[test])) # code modification for f1 score metric\n",
    "        \n",
    "#         result += scorefunc(clf, X[test], y[test]) # evaluate score function on held-out data\n",
    "    return result / nfold # average\n",
    "\n",
    "# def log_likelihood(clf, x, y):\n",
    "#     prob = clf.predict_log_proba(x)\n",
    "#     bad = y == 0\n",
    "#     good = ~bad\n",
    "#     return prob[bad, 0].sum() + prob[good, 1].sum()"
   ]
  },
  {
   "cell_type": "code",
   "execution_count": 6,
   "metadata": {
    "collapsed": false
   },
   "outputs": [],
   "source": [
    "from sklearn.naive_bayes import MultinomialNB\n",
    "from sklearn.cross_validation import train_test_split\n",
    "from sklearn.cross_validation import cross_val_score\n",
    "from sklearn.feature_extraction.text import TfidfVectorizer\n",
    "\n",
    "my_vectorizer = CountVectorizer(analyzer = 'word', \\\n",
    "                            tokenizer = None, \\\n",
    "                            preprocessor = None, \\\n",
    "                            stop_words = None, \\\n",
    "                            min_df = 1e-4, \n",
    "                            ngram_range = (1,2))\n",
    "    \n",
    "Xthis, ythis = make_xy(yelp_df, my_vectorizer)"
   ]
  },
  {
   "cell_type": "code",
   "execution_count": 7,
   "metadata": {
    "collapsed": false
   },
   "outputs": [
    {
     "name": "stdout",
     "output_type": "stream",
     "text": [
      "(83349, 71510) 9.53804260268 0.00201256261994\n",
      "71510 24915\n",
      "<class 'scipy.sparse.csr.csr_matrix'> (83349, 71510)\n"
     ]
    }
   ],
   "source": [
    "#chi squared feature selection\n",
    "from sklearn.feature_selection import chi2\n",
    "from scipy import sparse\n",
    "import itertools\n",
    "\n",
    "chi_squared, probability  = chi2(Xthis, ythis)\n",
    "print(Xthis.shape, chi_squared[0], probability[0])\n",
    "print(len(probability), sum(probability <= .05))\n",
    "print(type(Xthis), Xthis.shape)\n",
    "\n",
    "index_to_keep = []\n",
    "for index, value in enumerate(probability):\n",
    "    if value <= .05:\n",
    "        index_to_keep.append(index)\n",
    "\n",
    "new_Xthis = Xthis[:,index_to_keep]\n",
    "\n",
    "\n",
    "Xtrainthis = new_Xthis[mask]\n",
    "ytrainthis = ythis[mask]\n",
    "Xtestthis = new_Xthis[~mask]\n",
    "ytestthis = ythis[~mask]\n"
   ]
  },
  {
   "cell_type": "code",
   "execution_count": 8,
   "metadata": {
    "collapsed": false
   },
   "outputs": [
    {
     "name": "stdout",
     "output_type": "stream",
     "text": [
      "(83349, 71510)\n"
     ]
    }
   ],
   "source": [
    "print(Xthis.shape)"
   ]
  },
  {
   "cell_type": "code",
   "execution_count": 9,
   "metadata": {
    "collapsed": false,
    "scrolled": false
   },
   "outputs": [
    {
     "name": "stdout",
     "output_type": "stream",
     "text": [
      "Good words \t    P(good review | word)\t     P(bad review | word)\n",
      "          glad found \t \t 0.99 \t \t 0.01\n",
      "         happy found \t \t 0.99 \t \t 0.01\n",
      "      hands favorite \t \t 0.99 \t \t 0.01\n",
      "delicious reasonably \t \t 0.99 \t \t 0.01\n",
      "  everything amazing \t \t 0.98 \t \t 0.02\n",
      "         wait return \t \t 0.98 \t \t 0.02\n",
      "      simply amazing \t \t 0.98 \t \t 0.02\n",
      "          must visit \t \t 0.98 \t \t 0.02\n",
      "           cant wait \t \t 0.98 \t \t 0.02\n",
      "          glad place \t \t 0.98 \t \t 0.02\n",
      "      friendly great \t \t 0.98 \t \t 0.02\n",
      "        place hidden \t \t 0.98 \t \t 0.02\n",
      "  recommend everyone \t \t 0.98 \t \t 0.02\n",
      "     excellent great \t \t 0.98 \t \t 0.02\n",
      "    yet disappointed \t \t 0.98 \t \t 0.02\n",
      "             magical \t \t 0.98 \t \t 0.02\n",
      "     extremely fresh \t \t 0.98 \t \t 0.02\n",
      "             diamond \t \t 0.98 \t \t 0.02\n",
      "           city love \t \t 0.98 \t \t 0.02\n",
      "          wish lived \t \t 0.98 \t \t 0.02\n",
      "Bad words\t     P(good review | word)\t     P(bad review | word)\n",
      "           bad night \t \t 0.04 \t \t 0.96\n",
      "    worst restaurant \t \t 0.04 \t \t 0.96\n",
      "         place worst \t \t 0.04 \t \t 0.96\n",
      "         waste money \t \t 0.04 \t \t 0.96\n",
      "           back told \t \t 0.04 \t \t 0.96\n",
      "       noodles bland \t \t 0.04 \t \t 0.96\n",
      "       awful service \t \t 0.03 \t \t 0.97\n",
      "         wanted like \t \t 0.03 \t \t 0.97\n",
      "              yelled \t \t 0.03 \t \t 0.97\n",
      "       lost appetite \t \t 0.03 \t \t 0.97\n",
      "       poor customer \t \t 0.03 \t \t 0.97\n",
      "    worst experience \t \t 0.03 \t \t 0.97\n",
      "         asked speak \t \t 0.03 \t \t 0.97\n",
      "          tasted old \t \t 0.03 \t \t 0.97\n",
      "       disrespectful \t \t 0.03 \t \t 0.97\n",
      "      worst customer \t \t 0.03 \t \t 0.97\n",
      "          worst food \t \t 0.02 \t \t 0.98\n",
      "    service horrible \t \t 0.02 \t \t 0.98\n",
      "       speak manager \t \t 0.02 \t \t 0.98\n",
      "           worst pad \t \t 0.02 \t \t 0.98\n"
     ]
    }
   ],
   "source": [
    "#train the multinomial naive-bayes classifier with the reduced corpus\n",
    "from sklearn.naive_bayes import MultinomialNB\n",
    "from scipy.sparse import identity\n",
    "\n",
    "words = np.array(my_vectorizer.get_feature_names())\n",
    "word_reduction = words[probability <= .05]\n",
    "\n",
    "clf = MultinomialNB(alpha = 1)\n",
    "clf.fit(Xtrainthis, ytrainthis)\n",
    "\n",
    "x = identity(new_Xthis.shape[1])\n",
    "probs = clf.predict_log_proba(x)[:, 0]\n",
    "ind = np.argsort(probs)\n",
    "\n",
    "good_words = word_reduction[ind[:20]]\n",
    "bad_words = word_reduction[ind[-20:]]\n",
    "\n",
    "likely_good_prob = probs[ind[:20]]\n",
    "likely_bad_prob = probs[ind[-20:]]\n",
    "\n",
    "print (\"Good words \\t    P(good review | word)\\t     P(bad review | word)\")\n",
    "for w, l in zip(good_words, likely_good_prob):\n",
    "    print (\"%20s \\t \\t\" % w, \"%0.2f \\t \\t\" % (1 - np.exp(l)), \"%0.2f\" % (np.exp(l)))\n",
    "    \n",
    "print (\"Bad words\\t     P(good review | word)\\t     P(bad review | word)\")\n",
    "for w, l in zip(bad_words, likely_bad_prob):\n",
    "    print (\"%20s \\t \\t\" % w, \"%0.2f \\t \\t\" % (1 - np.exp(l)), \"%0.2f\" % (np.exp(l)))"
   ]
  },
  {
   "cell_type": "code",
   "execution_count": 10,
   "metadata": {
    "collapsed": false
   },
   "outputs": [
    {
     "data": {
      "image/png": "[encoded data removed]",
      "text/plain": [
       "<matplotlib.figure.Figure at 0x28b3fa18b70>"
      ]
     },
     "metadata": {},
     "output_type": "display_data"
    }
   ],
   "source": [
    "from sklearn.metrics import precision_recall_curve, average_precision_score, classification_report\n",
    "import matplotlib.pyplot as plt \n",
    "\n",
    "y_predicted_score = clf.predict_proba(Xtestthis)[:,1]\n",
    "precision, recall, _ = precision_recall_curve(ytestthis, y_predicted_score)\n",
    "average_precision = average_precision_score(ytestthis, y_predicted_score)\n",
    "\n",
    "plt.clf()\n",
    "plt.plot(recall, precision, lw=2, color='navy',\n",
    "         label='Precision-Recall curve')\n",
    "plt.xlabel('Recall')\n",
    "plt.ylabel('Precision')\n",
    "plt.ylim([0.0, 1.05])\n",
    "plt.xlim([0.0, 1.0])\n",
    "plt.title('Precision-Recall example: AUC={0:0.2f}'.format(average_precision))\n",
    "plt.legend(loc=\"lower left\")\n",
    "plt.show()\n"
   ]
  },
  {
   "cell_type": "code",
   "execution_count": 14,
   "metadata": {
    "collapsed": false
   },
   "outputs": [
    {
     "name": "stdout",
     "output_type": "stream",
     "text": [
      "(83349, 24915)\n",
      "             precision    recall  f1-score   support\n",
      "\n",
      " bad review     0.8458    0.8045    0.8246      8668\n",
      "good review     0.8989    0.9222    0.9104     16337\n",
      "\n",
      "avg / total     0.8805    0.8814    0.8807     25005\n",
      "\n",
      "[[ 6973  1695]\n",
      " [ 1271 15066]]\n"
     ]
    }
   ],
   "source": [
    "from sklearn.metrics import classification_report, confusion_matrix\n",
    "print(new_Xthis.shape)\n",
    "temp_score = clf.predict(Xtestthis)\n",
    "target_names = ['bad review', 'good review']\n",
    "print(classification_report(ytestthis, temp_score, target_names = target_names, digits = 4))\n",
    "print (confusion_matrix(ytestthis, clf.predict(Xtestthis)))"
   ]
  },
  {
   "cell_type": "code",
   "execution_count": 12,
   "metadata": {
    "collapsed": false
   },
   "outputs": [
    {
     "data": {
      "image/png": "[encoded data removed]",
      "text/plain": [
       "<matplotlib.figure.Figure at 0x28b42457128>"
      ]
     },
     "metadata": {},
     "output_type": "display_data"
    }
   ],
   "source": [
    "#plot the ROC Curve\n",
    "from sklearn.metrics import confusion_matrix, roc_curve, auc, roc_auc_score\n",
    "import matplotlib.pyplot as plt\n",
    "\n",
    "y_score = clf.predict_proba(Xtestthis)\n",
    "\n",
    "# print(roc_auc_score(ytestthis, y_score))\n",
    "#######PLOT ROC CURVE########\n",
    "\n",
    "#Compute ROC curve and ROC area for each class\n",
    "fpr = dict()\n",
    "tpr = dict()\n",
    "roc_auc = dict()\n",
    "\n",
    "\n",
    "fpr, tpr, _ = roc_curve(ytestthis, y_score[:,1])\n",
    "roc_auc = auc(fpr, tpr)\n",
    "\n",
    "# Compute micro-average ROC curve and ROC area\n",
    "# fpr[\"micro\"], tpr[\"micro\"], _ = roc_curve(ytestthis.ravel(), y_score.ravel())\n",
    "# roc_auc[\"micro\"] = auc(fpr[\"micro\"], tpr[\"micro\"])\n",
    "lw = 2\n",
    "plt.plot(fpr, tpr, color='darkorange',\n",
    "         lw=lw, label='ROC curve (area = %0.2f)' % roc_auc)\n",
    "plt.plot([0, 1], [0, 1], color='navy', lw=lw, linestyle='--')\n",
    "plt.xlim([0.0, 1.0])\n",
    "plt.ylim([0.0, 1.05])\n",
    "plt.xlabel('False Positive Rate')\n",
    "plt.ylabel('True Positive Rate')\n",
    "plt.title('Receiver Operating Characteristic')\n",
    "plt.legend(loc=\"lower right\")\n",
    "plt.show()\n"
   ]
  },
  {
   "cell_type": "code",
   "execution_count": 12,
   "metadata": {
    "collapsed": false
   },
   "outputs": [
    {
     "name": "stdout",
     "output_type": "stream",
     "text": [
      "(241, 71510) (1, 71510)\n",
      "The percentage of reviews that are 4 or 5 is: 0.62\n",
      "The predicted rating for Erawan is 3.556017\n"
     ]
    }
   ],
   "source": [
    "#testing uncle's restaurant data with the classifier\n",
    "\n",
    "rating = yelp_review_df['Reviewer Rating Clean']\n",
    "erawan  = yelp_review_df['Restaurant Name'] == 'Erawan Thai Cuisine'\n",
    "raw_reviews = yelp_review_df['Review'] \n",
    "erawan_reviews = raw_reviews[erawan]\n",
    "erawan_reviews = erawan_reviews.tolist()\n",
    "\n",
    "#converts erawan_reviews individually to term-document \n",
    "ind_review = my_vectorizer.transform(erawan_reviews) \n",
    "\n",
    "#converts erawan reviews in one string to term document\n",
    "combining_reviews = ' '.join(erawan_reviews) \n",
    "all_reviews = my_vectorizer.transform([combining_reviews])\n",
    "print(ind_review.shape, all_reviews.shape)\n",
    "\n",
    "#feature reduction via chi-squared for both versions\n",
    "all_reviews_feat_red = all_reviews[:,index_to_keep]\n",
    "ind_review_feat_red = ind_review[:,index_to_keep]\n",
    "\n",
    "all_review_prediction = clf.predict(all_reviews_feat_red)\n",
    "ind_review_prediction = clf.predict(ind_review_feat_red)\n",
    "\n",
    "pos_percentage = np.mean(ind_review_prediction)\n",
    "print('The percentage of reviews that are 4 or 5 is: {0:0.2f}'.format(pos_percentage))\n",
    "print('The predicted rating for Erawan is %f' % (pos_percentage*4.5 + (1-pos_percentage)*2)) #real rating is actually a 3.4"
   ]
  },
  {
   "cell_type": "code",
   "execution_count": null,
   "metadata": {
    "collapsed": true
   },
   "outputs": [],
   "source": []
  },
  {
   "cell_type": "code",
   "execution_count": 13,
   "metadata": {
    "collapsed": false,
    "scrolled": true
   },
   "outputs": [],
   "source": [
    "#determining what words in the cor\n",
    "from itertools import chain\n",
    "from functools import reduce\n",
    "import pandas as pd\n",
    "\n",
    "#pull the probabilities for all words in the corpus\n",
    "words = np.array(my_vectorizer.get_feature_names())\n",
    "word_reduction = words[probability <= .05]\n",
    "\n",
    "#identity review words that are present in the corpus\n",
    "erawan_feature_frequency = ind_review_feat_red.sum(axis=0) #frequency of words appearing in chi-squared corpus\n",
    "\n",
    "#intermediary step\n",
    "feature_reduction = erawan_feature_frequency > 0\n",
    "feature_reduction = sum(feature_reduction.tolist(), [])\n",
    "\n",
    "keep_erawan_features = []\n",
    "for index, value in enumerate(feature_reduction):\n",
    "    if value == True:\n",
    "        keep_erawan_features.append(index)\n",
    "\n",
    "# reduce to only erawan features - 19000 to 2514\n",
    "erawan_features = ind_review_feat_red[:,keep_erawan_features] #new corpus with 2514 features occuring in Erawan reviews\n",
    "erawan_words = word_reduction[keep_erawan_features]\n",
    "\n",
    "x = identity(new_Xthis.shape[1])\n",
    "probs = clf.predict_log_proba(x)[:, 0] #predict probability for all words in 19689 word corpus\n",
    "probs = probs[keep_erawan_features] #only keep the probabilities for features that existing in erawan's corpus\n",
    "\n",
    "#up until this point, words, features and probabilities are kept in the same order from indexing with keep_erawan_features\n",
    "\n",
    "ind = np.argsort(probs) #return the indexes for the remaining features - these indexes were from the original corpus\n",
    "#now the indexs of the re-ordered features from lowest (good) to highest(bad) are returned ranging from 0-2513\n",
    "\n",
    "good_words = erawan_words[ind[:20]]\n",
    "bad_words = erawan_words[ind[-20:]]\n",
    "\n",
    "likely_good_prob = probs[ind[:20]]\n",
    "likely_bad_prob = probs[ind[-20:]]\n",
    "\n",
    "#filter the feature_frequency of origin corpus to restaurant corpus\n",
    "feature_frequency = sum(erawan_feature_frequency.tolist(), [])\n",
    "feature_frequency = [feature_frequency[i] for i in keep_erawan_features] \n",
    "    "
   ]
  },
  {
   "cell_type": "code",
   "execution_count": 14,
   "metadata": {
    "collapsed": false
   },
   "outputs": [],
   "source": [
    "#erawan's performance on each word when compared to the universe. how is the restaurant faring with the mean when it \n",
    "#comes to each feature?\n",
    "erawan_ratings = rating[erawan].tolist() #pull the original ratings for erawan only\n",
    "\n",
    "#convert those ratings to a good or bad rating, 1 or 0\n",
    "erawan_gb_rating = []\n",
    "for i in erawan_ratings:\n",
    "    erawan_gb_rating.append(int(1) if (i == 4 or i == 5) else int(0))\n",
    "\n",
    "erawan_local_probability = []\n",
    "for feature in range(erawan_features.shape[1]): #total of 2513 features\n",
    "    array = erawan_features[:,feature].toarray() #total of 241 elements in array to check\n",
    "    calculate_mean = []\n",
    "    for index, number in enumerate(array):\n",
    "        if number > 0:\n",
    "            calculate_mean.append(erawan_gb_rating[index])\n",
    "    erawan_local_probability.append(np.mean(calculate_mean))\n",
    "\n",
    "erawan_local_probability = [erawan_local_probability[i] for i in ind]\n",
    "erawan_local_probability = np.around(erawan_local_probability, decimals = 2)"
   ]
  },
  {
   "cell_type": "code",
   "execution_count": 15,
   "metadata": {
    "collapsed": false
   },
   "outputs": [
    {
     "name": "stdout",
     "output_type": "stream",
     "text": [
      "                     Word  Prob Good Review  Prob Bad Review  Frequency of Reviews  Local Probability\n",
      "0             cannot wait              0.98             0.02                     1                1.0\n",
      "1              glad found              0.97             0.03                     1                1.0\n",
      "2           staff amazing              0.97             0.03                     1                1.0\n",
      "3        best restaurants              0.97             0.03                     1                1.0\n",
      "4                     gem              0.97             0.03                     1                1.0\n",
      "5      perfectly prepared              0.97             0.03                     1                1.0\n",
      "6          also delicious              0.97             0.03                     1                1.0\n",
      "7       equally delicious              0.96             0.04                     2                1.0\n",
      "8            new favorite              0.96             0.04                     1                1.0\n",
      "9            great casual              0.96             0.04                     1                1.0\n",
      "10              salad get              0.96             0.04                     1                1.0\n",
      "11                  bamee              0.96             0.04                     1                1.0\n",
      "12             always top              0.96             0.04                     1                1.0\n",
      "13     never disappointed              0.96             0.04                     1                1.0\n",
      "14             plus great              0.96             0.04                     1                1.0\n",
      "15   wonderful restaurant              0.96             0.04                     1                1.0\n",
      "16         excellent food              0.95             0.05                     2                1.0\n",
      "17            love coming              0.95             0.05                     1                1.0\n",
      "18           awesome food              0.95             0.05                     1                1.0\n",
      "19  presented beautifully              0.95             0.05                     2                1.0\n",
      "                     Word  Prob Good Review  Prob Bad Review  Frequency of Reviews  Local Probability\n",
      "2697           disgusting              0.08             0.92                     2                0.0\n",
      "2698                worst              0.07             0.93                     6                0.0\n",
      "2699         unacceptable              0.07             0.93                     2                0.0\n",
      "2700          back unless              0.07             0.93                     1                0.0\n",
      "2701           add insult              0.07             0.93                     1                0.0\n",
      "2702          beyond rude              0.07             0.93                     1                0.0\n",
      "2703               rudest              0.06             0.94                     1                0.0\n",
      "2704           zero stars              0.06             0.94                     1                0.0\n",
      "2705            two stars              0.06             0.94                     4                0.0\n",
      "2706         never return              0.06             0.94                     1                0.0\n",
      "2707          never going              0.05             0.95                     2                0.0\n",
      "2708            disgusted              0.05             0.95                     2                0.0\n",
      "2709  really disappointed              0.05             0.95                     1                0.0\n",
      "2710               injury              0.04             0.96                     2                0.0\n",
      "2711             insulted              0.04             0.96                     1                0.0\n",
      "2712     worst restaurant              0.04             0.96                     1                0.0\n",
      "2713     horrible service              0.04             0.96                     2                0.0\n",
      "2714           worst thai              0.04             0.96                     3                0.0\n",
      "2715       extremely rude              0.03             0.97                     1                0.0\n",
      "2716           tasted old              0.03             0.97                     1                0.0\n"
     ]
    }
   ],
   "source": [
    "import pandas as pd\n",
    "import seaborn as sns\n",
    "\n",
    "# Setup Pandas\n",
    "pd.set_option('display.width', 500)\n",
    "pd.set_option('display.max_columns', 100)\n",
    "pd.set_option('display.notebook_repr_html', True)\n",
    "\n",
    "new_erawan_words = [erawan_words[i] for i in ind]\n",
    "\n",
    "erawan_word_good_prob = [1-np.exp(i) for i in probs[ind]]\n",
    "erawan_word_good_prob = np.around(erawan_word_good_prob, decimals = 2)\n",
    "\n",
    "erawan_word_bad_prob = [np.exp(i) for i in probs[ind]]\n",
    "erawan_word_bad_prob = np.around(erawan_word_bad_prob, decimals = 2)\n",
    "\n",
    "erawan_word_freq = [feature_frequency[i] for i in ind] #re-order the feature corpus per ind\n",
    "\n",
    "\n",
    "erawan_df = pd.DataFrame(\n",
    "    {'Word': new_erawan_words,\n",
    "     'Prob Good Review': erawan_word_good_prob,\n",
    "     'Prob Bad Review': erawan_word_bad_prob, \n",
    "     'Frequency of Reviews' : erawan_word_freq, \n",
    "     'Local Probability' : erawan_local_probability\n",
    "    })\n",
    "\n",
    "erawan_df = erawan_df[['Word', 'Prob Good Review', 'Prob Bad Review', 'Frequency of Reviews', 'Local Probability']]\n",
    "print(erawan_df.head(20))\n",
    "print(erawan_df.tail(20))\n",
    "\n",
    "# erawan_df.to_csv(path_or_buf =  r'D:\\Data Science\\erawan_data.csv')"
   ]
  }
 ],
 "metadata": {
  "anaconda-cloud": {},
  "kernelspec": {
   "display_name": "Python [conda root]",
   "language": "python",
   "name": "conda-root-py"
  },
  "language_info": {
   "codemirror_mode": {
    "name": "ipython",
    "version": 3
   },
   "file_extension": ".py",
   "mimetype": "text/x-python",
   "name": "python",
   "nbconvert_exporter": "python",
   "pygments_lexer": "ipython3",
   "version": "3.5.2"
  }
 },
 "nbformat": 4,
 "nbformat_minor": 1
}
