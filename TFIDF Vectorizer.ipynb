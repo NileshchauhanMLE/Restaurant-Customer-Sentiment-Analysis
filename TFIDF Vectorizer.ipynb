{
 "cells": [
  {
   "cell_type": "code",
   "execution_count": null,
   "metadata": {
    "collapsed": true
   },
   "outputs": [],
   "source": [
    "##testing the tfidf vectorizer \n",
    "from sklearn.feature_extraction.text import TfidfVectorizer\n",
    "\n",
    "tfidfvectorizer = TfidfVectorizer(analyzer = 'word', stop_words='english',ngram_range = (1,2), \n",
    "                                  min_df = 80)\n",
    "clf = MultinomialNB(alpha = 50)\n",
    "Xthis, ythis = make_xy(yelp_df, tfidfvectorizer)\n",
    "\n",
    "Xtrainthis = Xthis[mask]\n",
    "ytrainthis = ythis[mask]\n",
    "Xtestthis = Xthis[~mask]\n",
    "ytestthis = ythis[~mask]\n",
    "\n",
    "clf.fit(Xtrainthis,ytrainthis)\n",
    "\n",
    "\n",
    "print (confusion_matrix(ytestthis, clf.predict(Xtestthis)))\n",
    "\n",
    "prediction_train = clf.predict(Xtrainthis)\n",
    "print('Accuracy of train set: %f' % np.mean(prediction_train == ytrainthis))\n",
    "\n",
    "prediction_test = clf.predict(Xtestthis)\n",
    "print('Accruacy of test set: %f' % np.mean(prediction_test == ytestthis))\n",
    "\n",
    "print('precision train score:')\n",
    "print(cross_val_score(clf, Xtrainthis, ytrainthis, scoring = 'precision'))\n",
    "print('precision test score:')\n",
    "print(cross_val_score(clf, Xtestthis, ytestthis, scoring = 'precision'))\n",
    "\n",
    "print('recall train score:')\n",
    "print(cross_val_score(clf, Xtrainthis, ytrainthis, scoring = 'recall'))\n",
    "print('recall test score:')\n",
    "print(cross_val_score(clf, Xtestthis, ytestthis, scoring = 'recall'))\n",
    "\n",
    "print('roc_auc train score:')\n",
    "print(cross_val_score(clf, Xtrainthis, ytrainthis, scoring = 'roc_auc'))\n",
    "print('roc_auc test score:')\n",
    "print(cross_val_score(clf, Xtestthis, ytestthis, scoring = 'roc_auc'))\n",
    "\n",
    "print('f1 train score:')\n",
    "print(cross_val_score(clf, Xtrainthis, ytrainthis, scoring = 'f1'))\n",
    "print('f1 test score:')\n",
    "print(cross_val_score(clf, Xtestthis, ytestthis, scoring = 'f1'))\n"
   ]
  }
 ],
 "metadata": {
  "kernelspec": {
   "display_name": "Python [conda root]",
   "language": "python",
   "name": "conda-root-py"
  },
  "language_info": {
   "codemirror_mode": {
    "name": "ipython",
    "version": 3
   },
   "file_extension": ".py",
   "mimetype": "text/x-python",
   "name": "python",
   "nbconvert_exporter": "python",
   "pygments_lexer": "ipython3",
   "version": "3.5.2"
  }
 },
 "nbformat": 4,
 "nbformat_minor": 1
}
